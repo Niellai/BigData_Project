{
 "cells": [
  {
   "cell_type": "code",
   "execution_count": 81,
   "metadata": {
    "ExecuteTime": {
     "end_time": "2020-03-22T08:03:45.150130Z",
     "start_time": "2020-03-22T08:03:45.143944Z"
    }
   },
   "outputs": [
    {
     "data": {
      "text/html": [
       "<style>.container { width:90% !important; }</style>"
      ],
      "text/plain": [
       "<IPython.core.display.HTML object>"
      ]
     },
     "metadata": {},
     "output_type": "display_data"
    }
   ],
   "source": [
    "from vaderSentiment.vaderSentiment import SentimentIntensityAnalyzer\n",
    "import pandas as pd\n",
    "import os\n",
    "\n",
    "import spacy\n",
    "from bs4 import BeautifulSoup\n",
    "\n",
    "from IPython.core.display import display, HTML\n",
    "display(HTML(\"<style>.container { width:90% !important; }</style>\"))"
   ]
  },
  {
   "cell_type": "code",
   "execution_count": 36,
   "metadata": {
    "ExecuteTime": {
     "end_time": "2020-03-22T06:37:27.236634Z",
     "start_time": "2020-03-22T06:37:26.623836Z"
    }
   },
   "outputs": [],
   "source": [
    "nlp = spacy.load(\"en_core_web_sm\")\n",
    "analyser = SentimentIntensityAnalyzer()\n",
    "\n",
    "tweet_path = os.path.join(\"../import_data\", \"tweets\", \"history_tweets_20-02-2020.csv\")"
   ]
  },
  {
   "cell_type": "code",
   "execution_count": 87,
   "metadata": {
    "ExecuteTime": {
     "end_time": "2020-03-22T08:06:53.632129Z",
     "start_time": "2020-03-22T08:06:53.629614Z"
    }
   },
   "outputs": [],
   "source": [
    "def sentiment_analyzer_scores(sentence, isPrint=True):\n",
    "    score = analyser.polarity_scores(sentence) \n",
    "    if isPrint:\n",
    "        print(\"{:-<40} {}\".format(sentence, str(score)))\n",
    "    return score"
   ]
  },
  {
   "cell_type": "code",
   "execution_count": 29,
   "metadata": {
    "ExecuteTime": {
     "end_time": "2020-03-22T06:31:18.693528Z",
     "start_time": "2020-03-22T06:31:18.667565Z"
    }
   },
   "outputs": [
    {
     "name": "stdout",
     "output_type": "stream",
     "text": [
      "<class 'pandas.core.frame.DataFrame'>\n",
      "RangeIndex: 1290 entries, 0 to 1289\n",
      "Data columns (total 11 columns):\n",
      " #   Column           Non-Null Count  Dtype \n",
      "---  ------           --------------  ----- \n",
      " 0   id               1290 non-null   int64 \n",
      " 1   created_at       1290 non-null   object\n",
      " 2   favorite_count   1290 non-null   int64 \n",
      " 3   retweet_count    1290 non-null   int64 \n",
      " 4   text             1290 non-null   object\n",
      " 5   source           1290 non-null   object\n",
      " 6   coordinates      9 non-null      object\n",
      " 7   screen_name      1290 non-null   object\n",
      " 8   created_at       1290 non-null   object\n",
      " 9   followers_count  1290 non-null   int64 \n",
      " 10  verified         1290 non-null   bool  \n",
      "dtypes: bool(1), int64(4), object(6)\n",
      "memory usage: 102.2+ KB\n"
     ]
    },
    {
     "data": {
      "text/html": [
       "<div>\n",
       "<style scoped>\n",
       "    .dataframe tbody tr th:only-of-type {\n",
       "        vertical-align: middle;\n",
       "    }\n",
       "\n",
       "    .dataframe tbody tr th {\n",
       "        vertical-align: top;\n",
       "    }\n",
       "\n",
       "    .dataframe thead th {\n",
       "        text-align: right;\n",
       "    }\n",
       "</style>\n",
       "<table border=\"1\" class=\"dataframe\">\n",
       "  <thead>\n",
       "    <tr style=\"text-align: right;\">\n",
       "      <th></th>\n",
       "      <th>id</th>\n",
       "      <th>created_at</th>\n",
       "      <th>favorite_count</th>\n",
       "      <th>retweet_count</th>\n",
       "      <th>text</th>\n",
       "      <th>source</th>\n",
       "      <th>coordinates</th>\n",
       "      <th>screen_name</th>\n",
       "      <th>created_at</th>\n",
       "      <th>followers_count</th>\n",
       "      <th>verified</th>\n",
       "    </tr>\n",
       "  </thead>\n",
       "  <tbody>\n",
       "    <tr>\n",
       "      <th>735</th>\n",
       "      <td>1227884417646915585</td>\n",
       "      <td>Thu Feb 13 09:17:12 +0000 2020</td>\n",
       "      <td>0</td>\n",
       "      <td>0</td>\n",
       "      <td>China's Hubei province sees surge in #coronavi...</td>\n",
       "      <td>&lt;a href=\"http://twitter.com/download/android\" ...</td>\n",
       "      <td>NaN</td>\n",
       "      <td>FHxoxo</td>\n",
       "      <td>Thu Sep 20 20:37:11 +0000 2007</td>\n",
       "      <td>1018</td>\n",
       "      <td>False</td>\n",
       "    </tr>\n",
       "    <tr>\n",
       "      <th>250</th>\n",
       "      <td>1229564737731596289</td>\n",
       "      <td>Tue Feb 18 00:34:12 +0000 2020</td>\n",
       "      <td>2</td>\n",
       "      <td>1</td>\n",
       "      <td>I believe the best way to protect yourself &amp;am...</td>\n",
       "      <td>&lt;a href=\"http://twitter.com/download/iphone\" r...</td>\n",
       "      <td>NaN</td>\n",
       "      <td>kurade</td>\n",
       "      <td>Sun Jun 21 04:06:44 +0000 2009</td>\n",
       "      <td>526</td>\n",
       "      <td>False</td>\n",
       "    </tr>\n",
       "    <tr>\n",
       "      <th>1239</th>\n",
       "      <td>1227062803648794625</td>\n",
       "      <td>Tue Feb 11 02:52:24 +0000 2020</td>\n",
       "      <td>1</td>\n",
       "      <td>1</td>\n",
       "      <td>This makes #coronavirus hard to detect. You ha...</td>\n",
       "      <td>&lt;a href=\"http://twitter.com/download/iphone\" r...</td>\n",
       "      <td>NaN</td>\n",
       "      <td>tsangyoujun</td>\n",
       "      <td>Thu Aug 31 09:49:13 +0000 2017</td>\n",
       "      <td>83</td>\n",
       "      <td>False</td>\n",
       "    </tr>\n",
       "    <tr>\n",
       "      <th>810</th>\n",
       "      <td>1227784036434661376</td>\n",
       "      <td>Thu Feb 13 02:38:20 +0000 2020</td>\n",
       "      <td>0</td>\n",
       "      <td>0</td>\n",
       "      <td>How coronavirus (Covid-19) spread day by day #...</td>\n",
       "      <td>&lt;a href=\"http://scottsdigital.com/guerilla-mar...</td>\n",
       "      <td>NaN</td>\n",
       "      <td>scottsdigital</td>\n",
       "      <td>Fri Nov 12 16:46:47 +0000 2010</td>\n",
       "      <td>5778</td>\n",
       "      <td>False</td>\n",
       "    </tr>\n",
       "    <tr>\n",
       "      <th>351</th>\n",
       "      <td>1229213019617390592</td>\n",
       "      <td>Mon Feb 17 01:16:36 +0000 2020</td>\n",
       "      <td>4</td>\n",
       "      <td>2</td>\n",
       "      <td>How to you protect yourself from #coronavirusc...</td>\n",
       "      <td>&lt;a href=\"https://mobile.twitter.com\" rel=\"nofo...</td>\n",
       "      <td>NaN</td>\n",
       "      <td>anndylian</td>\n",
       "      <td>Wed Mar 30 04:40:36 +0000 2011</td>\n",
       "      <td>929</td>\n",
       "      <td>False</td>\n",
       "    </tr>\n",
       "  </tbody>\n",
       "</table>\n",
       "</div>"
      ],
      "text/plain": [
       "                       id                      created_at  favorite_count  \\\n",
       "735   1227884417646915585  Thu Feb 13 09:17:12 +0000 2020               0   \n",
       "250   1229564737731596289  Tue Feb 18 00:34:12 +0000 2020               2   \n",
       "1239  1227062803648794625  Tue Feb 11 02:52:24 +0000 2020               1   \n",
       "810   1227784036434661376  Thu Feb 13 02:38:20 +0000 2020               0   \n",
       "351   1229213019617390592  Mon Feb 17 01:16:36 +0000 2020               4   \n",
       "\n",
       "      retweet_count                                               text  \\\n",
       "735               0  China's Hubei province sees surge in #coronavi...   \n",
       "250               1  I believe the best way to protect yourself &am...   \n",
       "1239              1  This makes #coronavirus hard to detect. You ha...   \n",
       "810               0  How coronavirus (Covid-19) spread day by day #...   \n",
       "351               2  How to you protect yourself from #coronavirusc...   \n",
       "\n",
       "                                                 source coordinates  \\\n",
       "735   <a href=\"http://twitter.com/download/android\" ...         NaN   \n",
       "250   <a href=\"http://twitter.com/download/iphone\" r...         NaN   \n",
       "1239  <a href=\"http://twitter.com/download/iphone\" r...         NaN   \n",
       "810   <a href=\"http://scottsdigital.com/guerilla-mar...         NaN   \n",
       "351   <a href=\"https://mobile.twitter.com\" rel=\"nofo...         NaN   \n",
       "\n",
       "        screen_name                      created_at  followers_count  verified  \n",
       "735          FHxoxo  Thu Sep 20 20:37:11 +0000 2007             1018     False  \n",
       "250          kurade  Sun Jun 21 04:06:44 +0000 2009              526     False  \n",
       "1239    tsangyoujun  Thu Aug 31 09:49:13 +0000 2017               83     False  \n",
       "810   scottsdigital  Fri Nov 12 16:46:47 +0000 2010             5778     False  \n",
       "351       anndylian  Wed Mar 30 04:40:36 +0000 2011              929     False  "
      ]
     },
     "execution_count": 29,
     "metadata": {},
     "output_type": "execute_result"
    }
   ],
   "source": [
    "df = pd.read_csv(tweet_path)\n",
    "df.columns = ['id', 'created_at', 'favorite_count', 'retweet_count', 'text', 'source',\n",
    "               'coordinates', 'screen_name', 'created_at', 'followers_count',\n",
    "               'verified']\n",
    "df.info()\n",
    "df.sample(n=5)"
   ]
  },
  {
   "cell_type": "code",
   "execution_count": 33,
   "metadata": {
    "ExecuteTime": {
     "end_time": "2020-03-22T06:33:37.100172Z",
     "start_time": "2020-03-22T06:33:37.092519Z"
    }
   },
   "outputs": [
    {
     "data": {
      "text/plain": [
       "'#Coronavirus is having unexpected impacts,including #tradewar : hopefully, there won’t be many more. Taiwan bans Italian pig imports in quarrel over flight ban, East Asia News &amp; Top Stories - The Straits Times https://t.co/5TUPaXQlin'"
      ]
     },
     "execution_count": 33,
     "metadata": {},
     "output_type": "execute_result"
    }
   ],
   "source": [
    "df['text'][1]"
   ]
  },
  {
   "cell_type": "code",
   "execution_count": 61,
   "metadata": {
    "ExecuteTime": {
     "end_time": "2020-03-22T07:50:18.529476Z",
     "start_time": "2020-03-22T07:50:18.523451Z"
    }
   },
   "outputs": [
    {
     "name": "stdout",
     "output_type": "stream",
     "text": [
      "#Coronavirus is having unexpected impacts,including #tradewar : hopefully, there won’t be many more. Taiwan bans Italian pig imports in quarrel over flight ban, East Asia News &amp; Top Stories - The Straits Times https://t.co/5TUPaXQlin {'neg': 0.092, 'neu': 0.793, 'pos': 0.115, 'compound': -0.0258}\n"
     ]
    },
    {
     "data": {
      "text/plain": [
       "{'neg': 0.092, 'neu': 0.793, 'pos': 0.115, 'compound': -0.0258}"
      ]
     },
     "execution_count": 61,
     "metadata": {},
     "output_type": "execute_result"
    }
   ],
   "source": [
    "# do it in entire paragraph\n",
    "sentiment_analyzer_scores(df['text'][1])"
   ]
  },
  {
   "cell_type": "code",
   "execution_count": 90,
   "metadata": {
    "ExecuteTime": {
     "end_time": "2020-03-22T08:08:47.303237Z",
     "start_time": "2020-03-22T08:08:47.279235Z"
    }
   },
   "outputs": [
    {
     "name": "stdout",
     "output_type": "stream",
     "text": [
      "#Coronavirus is having unexpected impacts,including #tradewar : hopefully, there won’t be many more. {'neg': 0.0, 'neu': 0.816, 'pos': 0.184, 'compound': 0.4019}\n",
      "Taiwan bans Italian pig imports in quarrel over flight ban, East Asia News & Top Stories - The Straits Times https://t.co/5TUPaXQlin {'neg': 0.148, 'neu': 0.779, 'pos': 0.074, 'compound': -0.4215}\n"
     ]
    },
    {
     "data": {
      "text/plain": [
       "{'neg': 0.074, 'neu': 0.7975, 'pos': 0.129, 'compound': -0.009800000000000003}"
      ]
     },
     "execution_count": 90,
     "metadata": {},
     "output_type": "execute_result"
    }
   ],
   "source": [
    "# do it in sentence\n",
    "doc = nlp(df['text'][1])\n",
    "\n",
    "def get_sentiment(doc):\n",
    "    total_scores = {'neg':0, 'neu':0, 'pos':0, 'compound':0}\n",
    "    \n",
    "    # Convert document to sentences and remove etc symbols\n",
    "    for sent in doc.sents:    \n",
    "        sent = str(sent)\n",
    "        soup = BeautifulSoup(sent,'lxml')\n",
    "        html_free = soup.get_text()\n",
    "        scores = sentiment_analyzer_scores(html_free)\n",
    "        for s in scores.keys():\n",
    "            total_scores[s] += scores[s]        \n",
    "\n",
    "    # store scores and average them\n",
    "    for key in total_scores.keys():\n",
    "        value = total_scores[key]\n",
    "        value = value / len(list(doc.sents))\n",
    "        total_scores[key] = value       \n",
    "        \n",
    "    return total_scores\n",
    "    \n",
    "get_sentiment(doc)"
   ]
  },
  {
   "cell_type": "code",
   "execution_count": null,
   "metadata": {},
   "outputs": [],
   "source": []
  },
  {
   "cell_type": "code",
   "execution_count": null,
   "metadata": {},
   "outputs": [],
   "source": []
  },
  {
   "cell_type": "code",
   "execution_count": null,
   "metadata": {},
   "outputs": [],
   "source": []
  },
  {
   "cell_type": "code",
   "execution_count": null,
   "metadata": {},
   "outputs": [],
   "source": []
  },
  {
   "cell_type": "code",
   "execution_count": null,
   "metadata": {},
   "outputs": [],
   "source": []
  },
  {
   "cell_type": "code",
   "execution_count": null,
   "metadata": {},
   "outputs": [],
   "source": []
  },
  {
   "cell_type": "code",
   "execution_count": null,
   "metadata": {},
   "outputs": [],
   "source": []
  },
  {
   "cell_type": "code",
   "execution_count": null,
   "metadata": {},
   "outputs": [],
   "source": []
  }
 ],
 "metadata": {
  "kernelspec": {
   "display_name": "bigdata",
   "language": "python",
   "name": "bigdata"
  },
  "language_info": {
   "codemirror_mode": {
    "name": "ipython",
    "version": 3
   },
   "file_extension": ".py",
   "mimetype": "text/x-python",
   "name": "python",
   "nbconvert_exporter": "python",
   "pygments_lexer": "ipython3",
   "version": "3.7.6"
  },
  "toc": {
   "base_numbering": 1,
   "nav_menu": {},
   "number_sections": true,
   "sideBar": true,
   "skip_h1_title": false,
   "title_cell": "Table of Contents",
   "title_sidebar": "Contents",
   "toc_cell": false,
   "toc_position": {},
   "toc_section_display": true,
   "toc_window_display": false
  }
 },
 "nbformat": 4,
 "nbformat_minor": 2
}
